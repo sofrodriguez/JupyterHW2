{
 "cells": [
  {
   "cell_type": "markdown",
   "metadata": {},
   "source": [
    "# Using surface roughness to date landslides\n",
    "\n",
    "### Overview\n",
    "In March of 2014, unusually high rainfall totals over a period of several weeks triggered a deep-seated landslide that mobilized into a rapidly moving debris flow. The debris flow inundated the town of Oso, Washington, resulting in 43 fatalities and the destruction of 49 houses. Other landslide deposits are visible in the vicinity of the 2014 Oso landslide (see figure below). The goal of this assignment is to estimate the ages of the nearby landslide deposits so that we can say something about the recurrence interval of large, deep-seated landslides in this area. Do they happen roughly every 100 years, 5000 years, or do they only happen once every 100,000 years?\n",
    "\n",
    "<img src=\"OsoOverviewMap.jpg\" alt=\"Drawing\"/>\n",
    "\n",
    "Our strategy will be to take advantage of the fact that recent landslides have “rougher” surfaces. Creep and bioturbation smooth the landslide deposits over time in a way that we can predict (using the diffusion equation!). We will use the standard linear diffusion model, shown below, to simulate how the surface of a landslide deposit will change with time:\n",
    "\n",
    "$$ \\frac{\\partial z}{\\partial t}=D\\frac{\\partial^2z}{\\partial x^2} $$\n",
    "\n",
    "Here, $z$ denotes elevation, $x$ is distance in the horizontal direction, and $D$ is the colluvial transport coefficient. Recall, that in a previous exercise we estimated the value of $D$ within the San Francisco Volcanic Field (SFVF) in northern Arizona. We found that $D\\approx5$ $\\mathrm{m^2}$ $\\mathrm{kyr}^{-1}$ in the SFVF. In this exercise, we will use a larger value of $D=10$ $\\mathrm{m^2}$ $\\mathrm{kyr}^{-1}$ since our study site near Oso, Washington, is in a wetter climate with more vegetation (and therefore greater rates of bioturbation). Once we have a model that lets us determine how the surface of a landslide deposit will change with time, we may be able to use it to describe how surface roughness varies with age."
   ]
  },
  {
   "cell_type": "markdown",
   "metadata": {},
   "source": [
    "### Landslide Deposit Morphology\n",
    "\n",
    "First, examine the map below showing the slope in the area of the Oso Landslide. Also pictured is the Rowan Landslide, which is older than the Oso Landslide.\n",
    "\n",
    "<img src=\"OsoSlopeMap.jpg\" alt=\"Drawing\"/>\n",
    "\n",
    "Notice how the Oso landslide, which is very recent, is characterized by a number of folds and a very “rough” surface. This type of hummocky topography is common in recent landslide deposits. The plot on the right shows a topographic transect that runs over the Oso Landslide deposit from north to south."
   ]
  },
  {
   "cell_type": "markdown",
   "metadata": {},
   "source": [
    "### Quantifying Surface Roughness\n",
    "\n",
    "If we are ultimately going to use surface roughness to date landslide deposits (i.e. older deposits are less rough, younger deposits are more rought), we first need a way to quantify what we mean by \"roughness\". One way to quantify surface roughness is to extract a transect from the slope data and compute the standard deviation of the slope along that transect. That is what we do here; we compute the standard deviation of the slope (SDS) over each 30-meter interval along a transect and then take the mean of all of these standard deviations to arrive at an estimate of roughness for each landslide deposit that we are interested in dating. The plots below show slope (deg) along transects that run over the 2014 Oso Landslide and the nearby Rowan Landslide (unknown age). Note that the Rowan landslide looks slightly less “rough” and therefore has a lower SDS value associated with it.\n",
    "\n",
    "<img src=\"RowanOsoTransects.png\" alt=\"Drawing\"/>\n",
    "\n",
    "Don't worry about understanding exactly how SDS is computed. The most important thing to note here is that SDS gives us a way to objectively define how \"rough\" a surface is. Higher values of SDS correspond to rough surfaces whereas lower values correspond to smoother surfaces."
   ]
  },
  {
   "cell_type": "markdown",
   "metadata": {},
   "source": [
    "### Estimating the Age of the Rowan Landslide\n",
    "\n",
    "We will now estimate the age of the Rowan Landslide using the diffusion model. This is the same model we used to simulate how cinder cones evolve. Since the same processes (creep, bioturbation) are driving sediment transport on landslide deposits, we can apply the same model here. However, when we modeled cinder cones we knew what the initial condition looked like. All cinder cones start with cone shape that is characterized by hillslope angles that are roughly equal to the angle of repose for granular material ($\\approx 30^{\\circ}$). We do not know what each of these landslide deposits looked like when they were first created. So, we will assume that all landslide deposits (including the Rowan Landslide) looked like the Oso Landslide immediately after they were emplaced. Of course, no two landslide deposits ever look exactly the same but it is reasonable to assume that the statistical properties of the initial landslide deposits (i.e. roughness) are similar to each other. We will make this assumption and simulate how the roughness, as quantified using the SDS, of the Oso Landslide deposit will change over time. If we know the relationship between SDS and deposit age, then we can estimate the age of any landside deposit in this region simply by computing its SDS. \n",
    "\n",
    "Let’s start by using the model to estimate how much the Oso Landslide deposit will change after it is subjected to erosion via diffusive processes (e.g. bioturbation, rain splash, freeze-thaw) for 100 years. The code below is set up to run the diffusion model using a topographic transect through the Oso Landslide as the initial topography. All you need to do is assign realistic values for the colluvial transport coefficient (landscape diffusivity) and choose an age. Use a value of $D=10$ $\\mathrm{m}^2$ $\\mathrm{kyr}^{-1}$ for the colluvial transport coefficient and an age of 0.1 kyr (since we want to know what the deposit will look like when the Oso Landslide is 100 years old). Then run the code block below.  "
   ]
  },
  {
   "cell_type": "code",
   "execution_count": null,
   "metadata": {},
   "outputs": [],
   "source": [
    "D=10;                                       # Colluvial transport coefficient [m^2/kyr] (i.e. landscape diffusivity)\n",
    "age=0.1;                                    # Age of the simulated landslide deposit [kyr]\n",
    "\n",
    "# !! YOU DO NOT NEED TO MODIFY THE CODE BELOW THIS LINE !! \n",
    "\n",
    "from diffusion1d import oso\n",
    "[distance,elevation,SDS]=oso(D,age)\n",
    "\n",
    "import matplotlib.pyplot as plt\n",
    "plt.plot(distance,elevation,'b-')\n",
    "plt.xlabel('Distance (m)', fontsize=14)\n",
    "plt.ylabel('Elevation (m)', fontsize=14)\n",
    "plt.title('SDS = '+str(round(SDS,1)), fontsize=14)\n",
    "plt.show()"
   ]
  },
  {
   "cell_type": "markdown",
   "metadata": {},
   "source": [
    "You should see that the SDS value for the topography (shown on the plot) after 0.1 kyr of erosion is slightly smaller than the SDS value of the initial landslide surface (e.g. the SDS value of the Oso Landslide deposit). This is a result of the fact that diffusive processes smooth the surface over time, but 0.1 kyr is not a sufficient amount of time to substantially *smooth* the surface of the landslide deposit. Although the SDS value has decreased over a time period of 0.1 kyr, it is still larger than the SDS value that we have computed for the Rowan Landslide deposit. Therefore, the Rowan Landslide deposit must be older than 0.1 kyr. Continue to run the model using the code cell above with increasing values for the age until you find an age that gives you a SDS value that is close to the one computed for the Rowan Landslide ($SDS\\approx5.2$). Based on this analysis, how old is the Rowan Landslide (you can round your answer to the nearest 0.1 kyr)?"
   ]
  },
  {
   "cell_type": "markdown",
   "metadata": {},
   "source": [
    0.10 kyr
    
   ]
  },
  {
   "cell_type": "markdown",
   "metadata": {},
   "source": [
    "### How does SDS vary with age?\n",
    "\n",
    "You have now successfully dated the Rowan Landslide! This process does not take too long, but it can be inefficient if we want to date a large number of landslide deposits. Later, I will give you SDS values for 12 different landslide deposits in this area. We want to date all of them so that we can have more data to accomplish our original goal of saying something about the recurrence interval of large, deep-seated landslides in this area. To do this, we will determine an equation that quantifies the relationship between SDS and age using our diffusion model. Then, we will use this equation to tell us the age of each landslide deposit based on its SDS. \n",
    "\n",
    "To get started on this process, lets use the model in the code cell below to determine how the SDS value changes as we change the age of the landslide deposit. Use the model (in the code cell below) to simulate the surface of the Oso Landslide after 1 kyr, 2 kyr, 5 kyr, 10 kyr, and 20 kyr. Continue to use a value of $D=10$ $\\mathrm{m}^2$ $\\mathrm{kyr}^{-1}$. Write down each of the SDS values that you get for these 5 different ages. You will need each of them to complete the next step. Note that it may take 5-10 seconds to compute the SDS when the ages are 10 kyr or 20 kyr since more computations need to be performed to complete these longer simulations."
   ]
  },
  {
   "cell_type": "code",
   "execution_count": null,
   "metadata": {},
   "outputs": [],
   "source": [
    "D=10;                                       # Colluvial transport coefficient [m^2/kyr] (i.e. landscape diffusivity)\n",
    "age=0.1;                                    # Age of the simulated landslide deposit [kyr]\n",
    "\n",
    "# !! YOU DO NOT NEED TO MODIFY THE CODE BELOW THIS LINE !! \n",
    "from diffusion1d import oso\n",
    "[distance,elevation,SDS]=oso(D,age)\n",
    "\n",
    "import numpy as np\n",
    "itopo=np.loadtxt('osotransect.txt')\n",
    "\n",
    "import matplotlib.pyplot as plt\n",
    "plt.plot(distance,elevation,'b-',label=\"Modeled Topography\")\n",
    "plt.plot(distance,itopo,'--',color='tab:gray',label=\"Modeled Topography\")\n",
    "plt.xlabel('Distance (m)', fontsize=14)\n",
    "plt.ylabel('Elevation (m)', fontsize=14)\n",
    "plt.title('SDS = '+str(round(SDS,1)), fontsize=14)\n",
    "plt.show()"
   ]
  },
  {
   "cell_type": "markdown",
   "metadata": {},
   "source": [
    "### A general method for estimating age based on SDS\n",
    "\n",
    "In the code below, we are going to create several variables (\"SDS_0kyr\", \"SDS_1kyr\", etc) so that we can store the information that you obtained in the previous section. Each variable will hold the SDS value of our idealized landslide deposit for different ages. Notice that the variable called *SDS_0kyr* is equal to the SDS value of the Oso transect, which is the same as the SDS value at a time of 0 kyr (since the landslide occured in 2014). The variables *SDS_1kyr*, *SDS_2kyr*,...,*SDS_20kyr* are all set equal to a value of 1. Change these values in the code block below to reflect the SDS values that you computed in the above exercise. For example, if you determined that the landslide deposit has an SDS value of $6.4$ after 5 kyr then set *SDS_5kyr* equal to $6.4$. When you are finished, run the code cell. The code should produce a plot of your data. Verify that the plot appears to be accurate."
   ]
  },
  {
   "cell_type": "code",
   "execution_count": null,
   "metadata": {},
   "outputs": [],
   "source": [
    "SDS_0kyr=9.5    # This is the initial (i.e. t=0) SDS value of our landslide deposit.\n",
    "SDS_1kyr=1    # Change this values from \2\" to the SDS value after 4 kyr.\n",
    "SDS_2kyr=1    # Change this values from \3\" to the SDS value after 6 kyr.\n",
    "SDS_5kyr=1    # Change this values from \4\" to the SDS value after 8 kyr.\n",
    "SDS_10kyr=1   # Change this values from \5\" to the SDS value after 10 kyr.\n",
    "SDS_20kyr=1   # Change this values from \10\" to the SDS value after 20 kyr.\n",
    "\n",
    "\n",
    "# You do not need to modify any code below this point\n",
    "import numpy as np\n",
    "age=np.array([0,1,2,5,10,20])\n",
    "SDS=np.array([SDS_0kyr,SDS_1kyr,SDS_2kyr,SDS_5kyr,SDS_10kyr,SDS_20kyr])\n",
    "\n",
    "import matplotlib.pyplot as plt\n",
    "plt.scatter(SDS,age,s=60, c='b', marker='o')   # Create the scatter plot, set marker size, set color, set marker type\n",
    "plt.xlabel('SDS [-]', fontsize=14)\n",
    "plt.ylabel('Landslide Age [kyr]', fontsize=14)\n",
    "plt.show()"
   ]
  },
  {
   "cell_type": "markdown",
   "metadata": {},
   "source": [
    "Now, we need to find a way to use the information above to come up with a more general relationship between SDS and age. Right now we only have 6 points on a graph. We have no way to determine the age of a landslide if its SDS value falls in between any of the points on our plot. One way to proceed is to fit a curve to our 6 data points. Python has routines that can be used to fit a function to X and Y data points. You may have experience using similar techniques in programs like Excel or MATLAB. \n",
    "\n",
    "Before proceeding to work with our data, lets examine how this process of curve fitting works for a simple case. Suppose we are given three points, having X coordinates of 1,2, and 3 and corresponding Y coordinates of 2,4, and 6.  Below is an example of how to fit a line to data using Python. **Do not worry about understanding how all of the code works. The aim of this part of the exercise is simply to introduce you to the types of tools that are available to you in programming languages like Python. That way, if you run into problems later in your professional or academic career, you will know whether or not using Python or a similar approach will be helpful.** Run the code block below. Then we will examine the output of the code."
   ]
  },
  {
   "cell_type": "code",
   "execution_count": null,
   "metadata": {},
   "outputs": [],
   "source": [
    "# You do not need to modify any code in this cell\n",
    "\n",
    "# First, define some X data\n",
    "X=[1,2,3]\n",
    "\n",
    "# Then define the corresponding Y data\n",
    "Y=[3,5,7]\n",
    "\n",
    "# Use polyfit to find the coefficients of the best fit line (i.e the slope and y-intercept of the line) \n",
    "import numpy as np\n",
    "pfit=np.polyfit(X,Y,1)\n",
    "\n",
    "# Print the values contained in the variable \"pfit\"\n",
    "print(pfit)"
   ]
  },
  {
   "cell_type": "markdown",
   "metadata": {},
   "source": [
    "You should see two values printed at the bottom of the code block. Python has determined the line that best fits the X and Y data that we provided. As you know, a line is described by two numbers: a slope and a y-intercept. Not surprisingly, Python has given us two numbers. The first number, which is a 2, corresponds to the slope of the best fit line. The second number, which is a 1, corresponds to the y-intercept. Thus, we now know that the best fit line for this X and Y data is given by\n",
    "\n",
    "$$ Y=2X+1$$\n"
   ]
  },
  {
   "cell_type": "markdown",
   "metadata": {},
   "source": [
    "### Fitting a line to your data\n",
    "\n",
    "Now that we know how to interpret the output from the *polyfit* function, we can see what information it gives us about the relationship between SDS and age. Look at the plot that you created earlier that shows age as a function of SDS. Age is the Y variable (i.e. the dependent variable) and SDS is the X variable (or independent variable). This is what we want because we ultimately want to be able to estimate the age of a landslide based on its SDS value. \n",
    "\n",
    "In the code below, we use polyfit to find the line that best describes the relationship between age and SDS. Notice that the code looks exactly like the code for the simple curve fitting example shown above except that *SDS* has been substituted for X and *age* has been substituted for Y. Run the code below (you don't need to make any changes to it) and then we will discuss the output."
   ]
  },
  {
   "cell_type": "code",
   "execution_count": null,
   "metadata": {},
   "outputs": [],
   "source": [
    "# You do not need to modify any code in this cell\n",
    "\n",
    "# You do not need to modify any code in this cell\n",
    "pfit=np.polyfit(SDS,age,1)\n",
    "\n",
    "# Print the values contained in the variable \"pfit\"\n",
    "print(pfit)"
   ]
  },
  {
   "cell_type": "markdown",
   "metadata": {},
   "source": [
    "Python has determined the line that best desribes the relationship between SDS and age. The first number in the output represents the slope of the line and the second number is the y intercept. The first number (the slope) should be roughly $-2.65$. The second number (the y-intercept) should be roughly $21.5$. This means that \n",
    "$$\n",
    "\\mathrm{AGE}=21.5-2.65 \\cdot{} \\mathrm{SDS}\n",
    "$$\n",
    "\n",
    "where AGE denotes the age of the landslide deposit in kyr. The code below will plot your best fit line on top of the actual data. Run the code below to see what your best fit line looks like."
   ]
  },
  {
   "cell_type": "code",
   "execution_count": null,
   "metadata": {},
   "outputs": [],
   "source": [
    "# You do not need to modify any code in this cell\n",
    "pfit=np.polyfit(SDS,age,1);\n",
    "\n",
    "import matplotlib.pyplot as plt\n",
    "plt.scatter(SDS,age,s=60, c='b', marker='o',label=\"Original Data\")   # Create the scatter plot, set marker size, set color, set marker type\n",
    "plt.plot(SDS,pfit[1]+pfit[0]*SDS,'k-',label=\"Best Fit Line\")\n",
    "plt.xlabel('SDS [-]', fontsize=14)\n",
    "plt.ylabel('Landslide Age [kyr]', fontsize=14)\n",
    "plt.legend()\n",
    "plt.show()"
   ]
  },
  {
   "cell_type": "markdown",
   "metadata": {},
   "source": [
    "You should see that a line does not fit the data very well. If you have correctly completed the assignment to this point, you will notice that the data points (blue circles) in the above plot show that age decreases rapidly with SDS at first and then decreases more slowly at higher SDS values. This pattern suggests that age varies nonlinearly with SDS. Motivated by this observation, let’s see if a 2nd order polynomial (i.e. a quadratic function) will provide a better fit to our data. "
   ]
  },
  {
   "cell_type": "markdown",
   "metadata": {},
   "source": [
    "### Fitting a quadratic function to your SDS data\n",
    "\n",
    "We use *polyfit* in the code below in much the same way as before. The only difference is that we want Python to find the quadratic funciton that best describes our data. We still need to provide the X data (i.e. \"SDS\") and the Y data (i.e. age). The only difference is that we change the third input for the *polyfit* function from a 1 (indicating that you want your data fit to a 1st order polynomial, which is a line) to a 2 (which indicates that you want your data fit to a 2nd order polynomial, which is a quadratic). Run the code block below and Python will determine the quadratic function that best fits your data."
   ]
  },
  {
   "cell_type": "code",
   "execution_count": null,
   "metadata": {},
   "outputs": [],
   "source": [
    "# You do not need to modify any code in this cell\n",
    "pfit=np.polyfit(SDS,age,2)\n",
    "\n",
    "# Print the values contained in the variable \"pfit\"\n",
    "print(pfit)"
   ]
  },
  {
   "cell_type": "markdown",
   "metadata": {},
   "source": [
    "Notice that Python returns three numbers. This is because three numbers are required to define a quadratic function, which looks like:\n",
    "\n",
    "$$ AGE=A\\cdot (SDS)^2+B\\cdot SDS+C $$\n",
    "\n",
    "The first number above is the coefficient $A$. The second number is equal to $B$ and the third is equal to $C$. In your notes, write down the equation of the best fit quadratic function. You will need to use this equation to finish the exercise. "
   ]
  },
  {
   "cell_type": "markdown",
   "metadata": {},
   "source": [
    "Let's see how well this quadratic function fits our data. Run the code below to plot the best fit quadratic function on the same plot as your data. Verify that the best fit quadratic looks reasonable in comparison to the actual data points. In other words, it should look like the curve fits the data reasonably well."
   ]
  },
  {
   "cell_type": "code",
   "execution_count": null,
   "metadata": {},
   "outputs": [],
   "source": [
    "# You do not need to modify any code in this cell\n",
    "pfit=np.polyfit(SDS,age,2);\n",
    "\n",
    "import matplotlib.pyplot as plt\n",
    "plt.scatter(SDS,age,s=60, c='b', marker='o',label=\"Original Data\")   # Create the scatter plot, set marker size, set color, set marker type\n",
    "plt.plot(SDS,pfit[2]+pfit[1]*SDS+pfit[0]*SDS**2,'k-',label=\"Best Fit Quadratic\")\n",
    "plt.xlabel('SDS [-]', fontsize=14)\n",
    "plt.ylabel('Landslide Age [kyr]', fontsize=14)\n",
    "plt.legend()\n",
    "plt.show()"
   ]
  },
  {
   "cell_type": "markdown",
   "metadata": {},
   "source": [
    "You now have a model (i.e. the quadratic function that you just found) that can be used to predict the age of a landslide based on its SDS. It is definitely not a perfect model but it will be ok for our purposes today. If we had more time, it would be beneficial to try to fit our data to a function that looks like:\n",
    "$$\n",
    "\\displaystyle{AGE=Ae^{-B*SDS}}\n",
    "$$\n",
    "Despite its limitations, the best quadratic function that we have found will be ok for our purposes. It will allow us to come up with rough estimates for the ages of other landslides in this area."
   ]
  },
  {
   "cell_type": "markdown",
   "metadata": {},
   "source": [
    "### Landslide recurrence"
   ]
  },
  {
   "cell_type": "markdown",
   "metadata": {},
   "source": [
    "Below is a list of SDS values for $12$ other landslide deposits in the area of the Oso landslide. Use the best-fit quadratic function from your above analysis to compute the age of each deposit based on its SDS. You can make your computations any way that you like (excel, calculator, etc) - you do not need to write code to do this.\n",
    "\n",
    "5.72\n",
    "\n",
    "5.11\n",
    "\n",
    "4.40\n",
    "\n",
    "4.57\n",
    "\n",
    "5.53\n",
    "\n",
    "5.55\n",
    "\n",
    "4.38\n",
    "\n",
    "6.13\n",
    "\n",
    "6.57\n",
    "\n",
    "6.08\n",
    "\n",
    "6.47\n",
    "\n",
    "5.81\n"
   ] 
  },
  {
   "cell_type": "markdown",
   "metadata": {},
   "source": [
    "How many landslides have ages less than 1 kyr?"
   ] 
  },
  {
   "cell_type": "markdown",
   "metadata": {
    "collapsed": true
   },
   "source": [
    "1"
   ]
  },
  {
   "cell_type": "markdown",
   "metadata": {},
   "source": [
    "How many landslides have ages between 1 kyr and 3 kyr?"
   ] 
  },
  {
   "cell_type": "markdown",
   "metadata": {},
   "source": [
    "3"
   ]
  },
  {
   "cell_type": "markdown",
   "metadata": {},
   "source": [
    "How many landslides have ages greater than 3 kyr?"
   ]
  },
  {
   "cell_type": "markdown",
   "metadata": {},
   "source": [
    "4"
   ]
  },
  {
   "cell_type": "markdown",
   "metadata": {},
   "source": [
    "Based on your analysis, is it likely that this area will experience another large, deep-seated landslide within the next one thousand years? Since we are not doing a rigorous analsysis of recurrence intervals, you do not need to do any calculations (other than those needed to answer the three questions above). In the space below, include a parapgraph of text (3-5 sentences) in which you answer this question and provide some justification for your reasoning. Your justificaiton could include (but does not have to) some discussion about the limitations of the above analysis."
   ]
  },
  {
   "cell_type": "markdown",
   "metadata": {
    "collapsed": true
   },
   "source": [
    "Yes, it is likely that there will be another large landslide within the next one thousand years. This is most likely to happen because the list of values tended to increase more than decrease over the years."
   ]
  }
 ],
 "metadata": {
  "kernelspec": {
   "display_name": "Python 3",
   "language": "python",
   "name": "python3"
  },
  "language_info": {
   "codemirror_mode": {
    "name": "ipython",
    "version": 3
   },
   "file_extension": ".py",
   "mimetype": "text/x-python",
   "name": "python",
   "nbconvert_exporter": "python",
   "pygments_lexer": "ipython3",
   "version": "3.7.0"
  }
 },
 "nbformat": 4,
 "nbformat_minor": 2
}
